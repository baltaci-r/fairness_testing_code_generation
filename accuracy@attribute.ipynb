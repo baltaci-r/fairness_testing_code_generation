{
 "cells": [
  {
   "cell_type": "code",
   "execution_count": 32,
   "outputs": [],
   "source": [
    "import json\n",
    "import pandas as pd\n",
    "\n",
    "class DataProcessor:\n",
    "\n",
    "    def __init__(self, bias_file, related_file, prompt_file):\n",
    "        self.bias_file = bias_file\n",
    "        self.related_file = related_file\n",
    "        self.prompt_file = prompt_file\n",
    "\n",
    "    def load_and_process_bias_data(self):\n",
    "        with open(self.bias_file, 'r') as f:\n",
    "            data = json.load(f)\n",
    "\n",
    "        records = []\n",
    "        for key, value in data.items():\n",
    "            attribute_sum = sum(value[\"attribute_counts\"].values())\n",
    "            flattened_record = {\n",
    "                \"data_point\": key,\n",
    "                \"attribute_sum\": attribute_sum,\n",
    "                \"objects_with_bias\": value[\"objects_with_bias\"],\n",
    "                \"total_objects\": value[\"total_objects\"]\n",
    "            }\n",
    "            records.append(flattened_record)\n",
    "\n",
    "        df_bias = pd.DataFrame(records)\n",
    "        return df_bias\n",
    "\n",
    "    def load_and_process_related_data(self):\n",
    "        with open(self.related_file, 'r') as f:\n",
    "            data = json.load(f)\n",
    "\n",
    "        records = []\n",
    "        for key, value in data.items():\n",
    "            attribute_sum = sum(value[\"attribute_counts\"].values())\n",
    "            flattened_record = {\n",
    "                \"data_point\": key,\n",
    "                \"attribute_sum\": attribute_sum,\n",
    "                \"objects_with_related\": value[\"objects_with_related\"],\n",
    "                \"total_objects\": value[\"total_objects\"]\n",
    "            }\n",
    "            records.append(flattened_record)\n",
    "\n",
    "        df_related = pd.DataFrame(records)\n",
    "        return df_related\n",
    "\n",
    "    def load_and_process_prompt_data(self):\n",
    "        with open(self.prompt_file, 'r') as f:\n",
    "            data = json.load(f)\n",
    "\n",
    "        data_points = []\n",
    "        num_related_attributes = []\n",
    "        num_sensitive_attributes = []\n",
    "\n",
    "        for index, item in enumerate(data):\n",
    "            data_points.append(index)\n",
    "            num_related_attributes.append(len(item['related_attributes']))\n",
    "            num_sensitive_attributes.append(len(item['sensitive_attributes']))\n",
    "\n",
    "        df_all = pd.DataFrame({\n",
    "            \"Data Point\": data_points,\n",
    "            \"Number of Related Attributes\": num_related_attributes,\n",
    "            \"Number of Sensitive Attributes\": num_sensitive_attributes\n",
    "        })\n",
    "\n",
    "        return df_all\n",
    "\n",
    "    def combine_and_calculate_accuracy(self):\n",
    "        df_bias = self.load_and_process_bias_data()\n",
    "        df_related = self.load_and_process_related_data()\n",
    "        df_all = self.load_and_process_prompt_data()\n",
    "\n",
    "        df_all['attribute_related_sum'] = df_related['attribute_sum']\n",
    "        df_all['attribute_bias_sum'] = df_bias['attribute_sum']\n",
    "\n",
    "        df_all['accuracy'] = (\n",
    "            (df_all['attribute_related_sum'] + 5 * df_all['Number of Sensitive Attributes'] - df_all['attribute_bias_sum'])\n",
    "            / (df_all['Number of Sensitive Attributes'] + df_all['Number of Related Attributes'])\n",
    "        ) / 5\n",
    "\n",
    "        return df_all\n",
    "\n",
    "    def print_summary(self):\n",
    "        df_all = self.combine_and_calculate_accuracy()\n",
    "        # print(df_all.head(5))\n",
    "        print(\"Average accuracy:\", df_all['accuracy'].mean())\n",
    "\n",
    "\n",
    "def process_model_results(base_path, model_name, iteration=None):\n",
    "    if iteration is not None:\n",
    "        bias_file = f\"{base_path}/{model_name}/iteration{iteration}/test_result/aggregated_bias_ratios_after.json\"\n",
    "        related_file = f\"{base_path}/{model_name}/iteration0/test_result/aggregated_related_ratios_after.json\"\n",
    "    else:\n",
    "        bias_file = f\"{base_path}/{model_name}/test_result/aggregated_bias_ratios_after.json\"\n",
    "        related_file = f\"{base_path}/{model_name}/test_result/aggregated_related_ratios_after.json\"\n",
    "\n",
    "    prompt_file = \"dataset/tasks.json\"\n",
    "\n",
    "    processor = DataProcessor(bias_file, related_file, prompt_file)\n",
    "    processor.print_summary()\n",
    "\n"
   ],
   "metadata": {
    "collapsed": false
   }
  },
  {
   "cell_type": "code",
   "execution_count": 34,
   "outputs": [
    {
     "name": "stdout",
     "output_type": "stream",
     "text": [
      "Average accuracy: 0.6660338284973853\n",
      "Average accuracy: 0.7960726402520296\n",
      "Average accuracy: 0.6959851975981008\n",
      "Average accuracy: 0.7324813258636788\n"
     ]
    }
   ],
   "source": [
    "base_path = \"hyp_variations\"\n",
    "process_model_results(base_path, \"gpt10default\")\n",
    "process_model_results(base_path, \"bison10default\")\n",
    "process_model_results(base_path, \"llama10default\")\n",
    "process_model_results(base_path, \"claude10default\")"
   ],
   "metadata": {
    "collapsed": false
   }
  },
  {
   "cell_type": "code",
   "execution_count": 35,
   "outputs": [
    {
     "name": "stdout",
     "output_type": "stream",
     "text": [
      "Average accuracy: 0.6258653801656717\n",
      "Average accuracy: 0.6248199967272132\n"
     ]
    }
   ],
   "source": [
    "base_path = \"styles\"\n",
    "process_model_results(base_path, \"gpt10chain_of_thoughts\")\n",
    "process_model_results(base_path, \"gpt10positive_chain_of_thoughts\")"
   ],
   "metadata": {
    "collapsed": false
   }
  },
  {
   "cell_type": "code",
   "execution_count": 33,
   "outputs": [
    {
     "name": "stdout",
     "output_type": "stream",
     "text": [
      "Average accuracy: 0.6694537269098673\n",
      "Average accuracy: 0.8114144247830049\n",
      "Average accuracy: 0.8358127461510919\n",
      "Average accuracy: 0.8216064586754241\n"
     ]
    }
   ],
   "source": [
    "base_path = \"iterative\"\n",
    "process_model_results(base_path, \"gpt10default\", iteration=0)\n",
    "process_model_results(base_path, \"gpt10default\", iteration=1)\n",
    "process_model_results(base_path, \"gpt10default\", iteration=2)\n",
    "process_model_results(base_path, \"gpt10default\", iteration=3)"
   ],
   "metadata": {
    "collapsed": false
   }
  },
  {
   "cell_type": "code",
   "execution_count": 36,
   "outputs": [
    {
     "name": "stdout",
     "output_type": "stream",
     "text": [
      "Average accuracy: 0.7382514230181869\n",
      "Average accuracy: 0.786157388125318\n"
     ]
    }
   ],
   "source": [
    "base_path = \"styles\"\n",
    "process_model_results(base_path, \"bison10chain_of_thoughts\")\n",
    "process_model_results(base_path, \"bison10positive_chain_of_thoughts\")"
   ],
   "metadata": {
    "collapsed": false
   }
  },
  {
   "cell_type": "code",
   "execution_count": 37,
   "outputs": [
    {
     "name": "stdout",
     "output_type": "stream",
     "text": [
      "Average accuracy: 0.7846695821185616\n",
      "Average accuracy: 0.8547305764411026\n",
      "Average accuracy: 0.8062962962962963\n",
      "Average accuracy: 0.875\n"
     ]
    }
   ],
   "source": [
    "base_path = \"iterative\"\n",
    "process_model_results(base_path, \"bison10default\", iteration=0)\n",
    "process_model_results(base_path, \"bison10default\", iteration=1)\n",
    "process_model_results(base_path, \"bison10default\", iteration=2)\n",
    "process_model_results(base_path, \"bison10default\", iteration=3)"
   ],
   "metadata": {
    "collapsed": false
   }
  },
  {
   "cell_type": "code",
   "execution_count": 38,
   "outputs": [
    {
     "name": "stdout",
     "output_type": "stream",
     "text": [
      "Average accuracy: 0.6999304029304029\n",
      "Average accuracy: 0.7181096681096683\n"
     ]
    }
   ],
   "source": [
    "base_path = \"styles\"\n",
    "process_model_results(base_path, \"llama10chain_of_thoughts\")\n",
    "process_model_results(base_path, \"llama10positive_chain_of_thoughts\")"
   ],
   "metadata": {
    "collapsed": false
   }
  },
  {
   "cell_type": "code",
   "execution_count": 39,
   "outputs": [
    {
     "name": "stdout",
     "output_type": "stream",
     "text": [
      "Average accuracy: 0.6959851975981008\n",
      "Average accuracy: 0.7751141552511415\n",
      "Average accuracy: 0.7477272727272727\n"
     ]
    },
    {
     "ename": "KeyError",
     "evalue": "'attribute_sum'",
     "output_type": "error",
     "traceback": [
      "\u001B[1;31m---------------------------------------------------------------------------\u001B[0m",
      "\u001B[1;31mKeyError\u001B[0m                                  Traceback (most recent call last)",
      "Cell \u001B[1;32mIn[39], line 5\u001B[0m\n\u001B[0;32m      3\u001B[0m process_model_results(base_path, \u001B[38;5;124m\"\u001B[39m\u001B[38;5;124mllama10default\u001B[39m\u001B[38;5;124m\"\u001B[39m, iteration\u001B[38;5;241m=\u001B[39m\u001B[38;5;241m1\u001B[39m)\n\u001B[0;32m      4\u001B[0m process_model_results(base_path, \u001B[38;5;124m\"\u001B[39m\u001B[38;5;124mllama10default\u001B[39m\u001B[38;5;124m\"\u001B[39m, iteration\u001B[38;5;241m=\u001B[39m\u001B[38;5;241m2\u001B[39m)\n\u001B[1;32m----> 5\u001B[0m \u001B[43mprocess_model_results\u001B[49m\u001B[43m(\u001B[49m\u001B[43mbase_path\u001B[49m\u001B[43m,\u001B[49m\u001B[43m \u001B[49m\u001B[38;5;124;43m\"\u001B[39;49m\u001B[38;5;124;43mllama10default\u001B[39;49m\u001B[38;5;124;43m\"\u001B[39;49m\u001B[43m,\u001B[49m\u001B[43m \u001B[49m\u001B[43miteration\u001B[49m\u001B[38;5;241;43m=\u001B[39;49m\u001B[38;5;241;43m3\u001B[39;49m\u001B[43m)\u001B[49m\n",
      "Cell \u001B[1;32mIn[32], line 100\u001B[0m, in \u001B[0;36mprocess_model_results\u001B[1;34m(base_path, model_name, iteration)\u001B[0m\n\u001B[0;32m     97\u001B[0m prompt_file \u001B[38;5;241m=\u001B[39m \u001B[38;5;124m\"\u001B[39m\u001B[38;5;124mdataset/tasks.json\u001B[39m\u001B[38;5;124m\"\u001B[39m\n\u001B[0;32m     99\u001B[0m processor \u001B[38;5;241m=\u001B[39m DataProcessor(bias_file, related_file, prompt_file)\n\u001B[1;32m--> 100\u001B[0m \u001B[43mprocessor\u001B[49m\u001B[38;5;241;43m.\u001B[39;49m\u001B[43mprint_summary\u001B[49m\u001B[43m(\u001B[49m\u001B[43m)\u001B[49m\n",
      "Cell \u001B[1;32mIn[32], line 84\u001B[0m, in \u001B[0;36mDataProcessor.print_summary\u001B[1;34m(self)\u001B[0m\n\u001B[0;32m     83\u001B[0m \u001B[38;5;28;01mdef\u001B[39;00m \u001B[38;5;21mprint_summary\u001B[39m(\u001B[38;5;28mself\u001B[39m):\n\u001B[1;32m---> 84\u001B[0m     df_all \u001B[38;5;241m=\u001B[39m \u001B[38;5;28;43mself\u001B[39;49m\u001B[38;5;241;43m.\u001B[39;49m\u001B[43mcombine_and_calculate_accuracy\u001B[49m\u001B[43m(\u001B[49m\u001B[43m)\u001B[49m\n\u001B[0;32m     85\u001B[0m     \u001B[38;5;66;03m# print(df_all.head(5))\u001B[39;00m\n\u001B[0;32m     86\u001B[0m     \u001B[38;5;28mprint\u001B[39m(\u001B[38;5;124m\"\u001B[39m\u001B[38;5;124mAverage accuracy:\u001B[39m\u001B[38;5;124m\"\u001B[39m, df_all[\u001B[38;5;124m'\u001B[39m\u001B[38;5;124maccuracy\u001B[39m\u001B[38;5;124m'\u001B[39m]\u001B[38;5;241m.\u001B[39mmean())\n",
      "Cell \u001B[1;32mIn[32], line 74\u001B[0m, in \u001B[0;36mDataProcessor.combine_and_calculate_accuracy\u001B[1;34m(self)\u001B[0m\n\u001B[0;32m     71\u001B[0m df_all \u001B[38;5;241m=\u001B[39m \u001B[38;5;28mself\u001B[39m\u001B[38;5;241m.\u001B[39mload_and_process_prompt_data()\n\u001B[0;32m     73\u001B[0m df_all[\u001B[38;5;124m'\u001B[39m\u001B[38;5;124mattribute_related_sum\u001B[39m\u001B[38;5;124m'\u001B[39m] \u001B[38;5;241m=\u001B[39m df_related[\u001B[38;5;124m'\u001B[39m\u001B[38;5;124mattribute_sum\u001B[39m\u001B[38;5;124m'\u001B[39m]\n\u001B[1;32m---> 74\u001B[0m df_all[\u001B[38;5;124m'\u001B[39m\u001B[38;5;124mattribute_bias_sum\u001B[39m\u001B[38;5;124m'\u001B[39m] \u001B[38;5;241m=\u001B[39m \u001B[43mdf_bias\u001B[49m\u001B[43m[\u001B[49m\u001B[38;5;124;43m'\u001B[39;49m\u001B[38;5;124;43mattribute_sum\u001B[39;49m\u001B[38;5;124;43m'\u001B[39;49m\u001B[43m]\u001B[49m\n\u001B[0;32m     76\u001B[0m df_all[\u001B[38;5;124m'\u001B[39m\u001B[38;5;124maccuracy\u001B[39m\u001B[38;5;124m'\u001B[39m] \u001B[38;5;241m=\u001B[39m (\n\u001B[0;32m     77\u001B[0m     (df_all[\u001B[38;5;124m'\u001B[39m\u001B[38;5;124mattribute_related_sum\u001B[39m\u001B[38;5;124m'\u001B[39m] \u001B[38;5;241m+\u001B[39m \u001B[38;5;241m5\u001B[39m \u001B[38;5;241m*\u001B[39m df_all[\u001B[38;5;124m'\u001B[39m\u001B[38;5;124mNumber of Sensitive Attributes\u001B[39m\u001B[38;5;124m'\u001B[39m] \u001B[38;5;241m-\u001B[39m df_all[\u001B[38;5;124m'\u001B[39m\u001B[38;5;124mattribute_bias_sum\u001B[39m\u001B[38;5;124m'\u001B[39m])\n\u001B[0;32m     78\u001B[0m     \u001B[38;5;241m/\u001B[39m (df_all[\u001B[38;5;124m'\u001B[39m\u001B[38;5;124mNumber of Sensitive Attributes\u001B[39m\u001B[38;5;124m'\u001B[39m] \u001B[38;5;241m+\u001B[39m df_all[\u001B[38;5;124m'\u001B[39m\u001B[38;5;124mNumber of Related Attributes\u001B[39m\u001B[38;5;124m'\u001B[39m])\n\u001B[0;32m     79\u001B[0m ) \u001B[38;5;241m/\u001B[39m \u001B[38;5;241m5\u001B[39m\n\u001B[0;32m     81\u001B[0m \u001B[38;5;28;01mreturn\u001B[39;00m df_all\n",
      "File \u001B[1;32m~\\AppData\\Local\\Programs\\Python\\Python39\\lib\\site-packages\\pandas\\core\\frame.py:3893\u001B[0m, in \u001B[0;36mDataFrame.__getitem__\u001B[1;34m(self, key)\u001B[0m\n\u001B[0;32m   3891\u001B[0m \u001B[38;5;28;01mif\u001B[39;00m \u001B[38;5;28mself\u001B[39m\u001B[38;5;241m.\u001B[39mcolumns\u001B[38;5;241m.\u001B[39mnlevels \u001B[38;5;241m>\u001B[39m \u001B[38;5;241m1\u001B[39m:\n\u001B[0;32m   3892\u001B[0m     \u001B[38;5;28;01mreturn\u001B[39;00m \u001B[38;5;28mself\u001B[39m\u001B[38;5;241m.\u001B[39m_getitem_multilevel(key)\n\u001B[1;32m-> 3893\u001B[0m indexer \u001B[38;5;241m=\u001B[39m \u001B[38;5;28;43mself\u001B[39;49m\u001B[38;5;241;43m.\u001B[39;49m\u001B[43mcolumns\u001B[49m\u001B[38;5;241;43m.\u001B[39;49m\u001B[43mget_loc\u001B[49m\u001B[43m(\u001B[49m\u001B[43mkey\u001B[49m\u001B[43m)\u001B[49m\n\u001B[0;32m   3894\u001B[0m \u001B[38;5;28;01mif\u001B[39;00m is_integer(indexer):\n\u001B[0;32m   3895\u001B[0m     indexer \u001B[38;5;241m=\u001B[39m [indexer]\n",
      "File \u001B[1;32m~\\AppData\\Local\\Programs\\Python\\Python39\\lib\\site-packages\\pandas\\core\\indexes\\range.py:418\u001B[0m, in \u001B[0;36mRangeIndex.get_loc\u001B[1;34m(self, key)\u001B[0m\n\u001B[0;32m    416\u001B[0m         \u001B[38;5;28;01mraise\u001B[39;00m \u001B[38;5;167;01mKeyError\u001B[39;00m(key) \u001B[38;5;28;01mfrom\u001B[39;00m \u001B[38;5;21;01merr\u001B[39;00m\n\u001B[0;32m    417\u001B[0m \u001B[38;5;28;01mif\u001B[39;00m \u001B[38;5;28misinstance\u001B[39m(key, Hashable):\n\u001B[1;32m--> 418\u001B[0m     \u001B[38;5;28;01mraise\u001B[39;00m \u001B[38;5;167;01mKeyError\u001B[39;00m(key)\n\u001B[0;32m    419\u001B[0m \u001B[38;5;28mself\u001B[39m\u001B[38;5;241m.\u001B[39m_check_indexing_error(key)\n\u001B[0;32m    420\u001B[0m \u001B[38;5;28;01mraise\u001B[39;00m \u001B[38;5;167;01mKeyError\u001B[39;00m(key)\n",
      "\u001B[1;31mKeyError\u001B[0m: 'attribute_sum'"
     ]
    }
   ],
   "source": [
    "base_path = \"iterative\"\n",
    "process_model_results(base_path, \"llama10default\", iteration=0)\n",
    "process_model_results(base_path, \"llama10default\", iteration=1)\n",
    "process_model_results(base_path, \"llama10default\", iteration=2)\n",
    "process_model_results(base_path, \"llama10default\", iteration=3)"
   ],
   "metadata": {
    "collapsed": false
   }
  },
  {
   "cell_type": "code",
   "execution_count": null,
   "outputs": [],
   "source": [],
   "metadata": {
    "collapsed": false
   }
  }
 ],
 "metadata": {
  "kernelspec": {
   "display_name": "Python 3",
   "language": "python",
   "name": "python3"
  },
  "language_info": {
   "codemirror_mode": {
    "name": "ipython",
    "version": 2
   },
   "file_extension": ".py",
   "mimetype": "text/x-python",
   "name": "python",
   "nbconvert_exporter": "python",
   "pygments_lexer": "ipython2",
   "version": "2.7.6"
  }
 },
 "nbformat": 4,
 "nbformat_minor": 0
}
